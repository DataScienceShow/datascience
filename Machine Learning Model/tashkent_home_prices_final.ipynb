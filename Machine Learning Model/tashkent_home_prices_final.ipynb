{
 "cells": [
  {
   "attachments": {},
   "cell_type": "markdown",
   "metadata": {},
   "source": [
    "<h1 style='color:purple' align='center'>Data Science Regression Project: Predicting Home Prices in Tashkent</h1>\n"
   ]
  },
  {
   "attachments": {},
   "cell_type": "markdown",
   "metadata": {},
   "source": [
    "Dataset is downloaded from here: https://www.kaggle.com/amitabhajoy/bengaluru-house-price-data\n"
   ]
  },
  {
   "cell_type": "code",
   "execution_count": 1,
   "metadata": {},
   "outputs": [],
   "source": [
    "import pandas as pd\n",
    "import numpy as np\n",
    "from matplotlib import pyplot as plt\n",
    "%matplotlib inline\n",
    "import matplotlib \n",
    "matplotlib.rcParams[\"figure.figsize\"] = (20,10)"
   ]
  },
  {
   "attachments": {},
   "cell_type": "markdown",
   "metadata": {},
   "source": [
    "<h2 style='color:blue'>Data Load: Load Tashkent home prices into a dataframe</h2>\n"
   ]
  },
  {
   "cell_type": "code",
   "execution_count": 2,
   "metadata": {},
   "outputs": [
    {
     "data": {
      "text/plain": [
       "array(['new', 'type', 'secondary'], dtype=object)"
      ]
     },
     "execution_count": 2,
     "metadata": {},
     "output_type": "execute_result"
    }
   ],
   "source": [
    "df1 = pd.read_csv(\"new building.csv\")\n",
    "df1.head()\n",
    "df1['type'].unique()"
   ]
  },
  {
   "cell_type": "code",
   "execution_count": 3,
   "metadata": {
    "scrolled": true
   },
   "outputs": [
    {
     "data": {
      "text/plain": [
       "array(['secondary', 'type'], dtype=object)"
      ]
     },
     "execution_count": 3,
     "metadata": {},
     "output_type": "execute_result"
    }
   ],
   "source": [
    "df2 = pd.read_csv(\"secondary building.csv\")\n",
    "df2.head()\n",
    "df2['type'].unique()"
   ]
  },
  {
   "cell_type": "code",
   "execution_count": 4,
   "metadata": {},
   "outputs": [
    {
     "data": {
      "text/plain": [
       "(12667, 6)"
      ]
     },
     "execution_count": 4,
     "metadata": {},
     "output_type": "execute_result"
    }
   ],
   "source": [
    "df = pd.concat([df1, df2], ignore_index=True)\n",
    "df.shape"
   ]
  },
  {
   "cell_type": "code",
   "execution_count": 5,
   "metadata": {},
   "outputs": [
    {
     "data": {
      "text/plain": [
       "Index(['Price', 'Area', 'rooms', 'type', 'City_District', 'Date'], dtype='object')"
      ]
     },
     "execution_count": 5,
     "metadata": {},
     "output_type": "execute_result"
    }
   ],
   "source": [
    "df.columns"
   ]
  },
  {
   "cell_type": "code",
   "execution_count": 6,
   "metadata": {},
   "outputs": [
    {
     "data": {
      "text/html": [
       "<div>\n",
       "<style scoped>\n",
       "    .dataframe tbody tr th:only-of-type {\n",
       "        vertical-align: middle;\n",
       "    }\n",
       "\n",
       "    .dataframe tbody tr th {\n",
       "        vertical-align: top;\n",
       "    }\n",
       "\n",
       "    .dataframe thead th {\n",
       "        text-align: right;\n",
       "    }\n",
       "</style>\n",
       "<table border=\"1\" class=\"dataframe\">\n",
       "  <thead>\n",
       "    <tr style=\"text-align: right;\">\n",
       "      <th></th>\n",
       "      <th>Price</th>\n",
       "      <th>Area</th>\n",
       "      <th>rooms</th>\n",
       "      <th>type</th>\n",
       "      <th>City_District</th>\n",
       "      <th>Date</th>\n",
       "    </tr>\n",
       "  </thead>\n",
       "  <tbody>\n",
       "    <tr>\n",
       "      <th>0</th>\n",
       "      <td>40000</td>\n",
       "      <td>44.0</td>\n",
       "      <td>1</td>\n",
       "      <td>new</td>\n",
       "      <td>Tashkent, Yunusabad district</td>\n",
       "      <td>June 24, 2023</td>\n",
       "    </tr>\n",
       "    <tr>\n",
       "      <th>1</th>\n",
       "      <td>17800</td>\n",
       "      <td>14.0</td>\n",
       "      <td>1</td>\n",
       "      <td>new</td>\n",
       "      <td>Tashkent, Yashnabad district</td>\n",
       "      <td>June 25, 2023</td>\n",
       "    </tr>\n",
       "    <tr>\n",
       "      <th>2</th>\n",
       "      <td>60000</td>\n",
       "      <td>42.61</td>\n",
       "      <td>1</td>\n",
       "      <td>new</td>\n",
       "      <td>Tashkent, Yunusabad district</td>\n",
       "      <td>June 15, 2023</td>\n",
       "    </tr>\n",
       "    <tr>\n",
       "      <th>3</th>\n",
       "      <td>41000</td>\n",
       "      <td>38.0</td>\n",
       "      <td>1</td>\n",
       "      <td>new</td>\n",
       "      <td>Tashkent, Mirzo-Ulugbek district</td>\n",
       "      <td>June 24, 2023</td>\n",
       "    </tr>\n",
       "    <tr>\n",
       "      <th>4</th>\n",
       "      <td>52000</td>\n",
       "      <td>40.0</td>\n",
       "      <td>1</td>\n",
       "      <td>new</td>\n",
       "      <td>Tashkent, Chilanzar district</td>\n",
       "      <td>June 24, 2023</td>\n",
       "    </tr>\n",
       "  </tbody>\n",
       "</table>\n",
       "</div>"
      ],
      "text/plain": [
       "   Price   Area rooms type                     City_District           Date\n",
       "0  40000   44.0     1  new      Tashkent, Yunusabad district  June 24, 2023\n",
       "1  17800   14.0     1  new      Tashkent, Yashnabad district  June 25, 2023\n",
       "2  60000  42.61     1  new      Tashkent, Yunusabad district  June 15, 2023\n",
       "3  41000   38.0     1  new  Tashkent, Mirzo-Ulugbek district  June 24, 2023\n",
       "4  52000   40.0     1  new      Tashkent, Chilanzar district  June 24, 2023"
      ]
     },
     "execution_count": 6,
     "metadata": {},
     "output_type": "execute_result"
    }
   ],
   "source": [
    "df.head()"
   ]
  },
  {
   "cell_type": "code",
   "execution_count": 7,
   "metadata": {
    "scrolled": false
   },
   "outputs": [
    {
     "data": {
      "text/plain": [
       "array(['new', 'type', 'secondary'], dtype=object)"
      ]
     },
     "execution_count": 7,
     "metadata": {},
     "output_type": "execute_result"
    }
   ],
   "source": [
    "df['type'].unique()"
   ]
  },
  {
   "cell_type": "code",
   "execution_count": 8,
   "metadata": {},
   "outputs": [
    {
     "data": {
      "text/plain": [
       "City_District\n",
       "Tashkent, Chilanzar district        3062\n",
       "Tashkent, Yunusabad district        2037\n",
       "Tashkent, Mirzo-Ulugbek district    1895\n",
       "Tashkent, Yakkasarai district       1125\n",
       "Tashkent, Mirabad district          1103\n",
       "Tashkent, Sergeli district           905\n",
       "Tashkent, Yashnabad district         868\n",
       "Tashkent, Shaikhantahur district     709\n",
       "Tashkent, Almazar district           576\n",
       "Tashkent, Uchtepinsky district       302\n",
       "Tashkent, Bektemir district           48\n",
       "City_District                         37\n",
       "Name: count, dtype: int64"
      ]
     },
     "execution_count": 8,
     "metadata": {},
     "output_type": "execute_result"
    }
   ],
   "source": [
    "df['City_District'].value_counts()"
   ]
  },
  {
   "cell_type": "code",
   "execution_count": 9,
   "metadata": {},
   "outputs": [
    {
     "data": {
      "text/plain": [
       "Date\n",
       "June 26, 2023     2537\n",
       "June 25, 2023     2122\n",
       "June 27, 2023     1916\n",
       "June 24, 2023      754\n",
       "July 03, 2023      653\n",
       "                  ... \n",
       "Today at 12:20       1\n",
       "Today at 12:29       1\n",
       "Today at 12:34       1\n",
       "Today at 12:36       1\n",
       "Today at 11:44       1\n",
       "Name: count, Length: 539, dtype: int64"
      ]
     },
     "execution_count": 9,
     "metadata": {},
     "output_type": "execute_result"
    }
   ],
   "source": [
    "df['Date'].value_counts()"
   ]
  },
  {
   "attachments": {},
   "cell_type": "markdown",
   "metadata": {},
   "source": [
    "<h2 style='color:blue'>Data Cleaning: Handle NA values</h2>\n"
   ]
  },
  {
   "cell_type": "code",
   "execution_count": 10,
   "metadata": {},
   "outputs": [
    {
     "data": {
      "text/plain": [
       "(12667, 6)"
      ]
     },
     "execution_count": 10,
     "metadata": {},
     "output_type": "execute_result"
    }
   ],
   "source": [
    "df.shape"
   ]
  },
  {
   "cell_type": "code",
   "execution_count": 11,
   "metadata": {
    "scrolled": false
   },
   "outputs": [
    {
     "data": {
      "text/plain": [
       "Price            0\n",
       "Area             0\n",
       "rooms            0\n",
       "type             0\n",
       "City_District    0\n",
       "Date             0\n",
       "dtype: int64"
      ]
     },
     "execution_count": 11,
     "metadata": {},
     "output_type": "execute_result"
    }
   ],
   "source": [
    "df.isnull().sum()"
   ]
  },
  {
   "cell_type": "code",
   "execution_count": 12,
   "metadata": {},
   "outputs": [
    {
     "data": {
      "text/plain": [
       "(11707, 6)"
      ]
     },
     "execution_count": 12,
     "metadata": {},
     "output_type": "execute_result"
    }
   ],
   "source": [
    "df1 = df[df['City_District'] != 'City_District']\n",
    "df1 = df[df['Date'].str.contains(\"Today\") == False]\n",
    "df1.shape"
   ]
  },
  {
   "cell_type": "code",
   "execution_count": 13,
   "metadata": {},
   "outputs": [
    {
     "name": "stdout",
     "output_type": "stream",
     "text": [
      "This is a before cleaning: (12667, 6) \n",
      " this is after cleaning: (11707, 6)\n"
     ]
    }
   ],
   "source": [
    "print(\n",
    "    f\"This is a before cleaning: {df.shape} \\n this is after cleaning: {df1.shape}\")"
   ]
  },
  {
   "cell_type": "code",
   "execution_count": 14,
   "metadata": {},
   "outputs": [
    {
     "data": {
      "text/plain": [
       "Price            0\n",
       "Area             0\n",
       "rooms            0\n",
       "type             0\n",
       "City_District    0\n",
       "Date             0\n",
       "dtype: int64"
      ]
     },
     "execution_count": 14,
     "metadata": {},
     "output_type": "execute_result"
    }
   ],
   "source": [
    "df3 = df.dropna()\n",
    "df3.isnull().sum()"
   ]
  },
  {
   "attachments": {},
   "cell_type": "markdown",
   "metadata": {},
   "source": [
    "**Drop duplicate values**\n"
   ]
  },
  {
   "cell_type": "code",
   "execution_count": 15,
   "metadata": {},
   "outputs": [
    {
     "data": {
      "text/plain": [
       "(12667, 6)"
      ]
     },
     "execution_count": 15,
     "metadata": {},
     "output_type": "execute_result"
    }
   ],
   "source": [
    "df3.duplicated().sum()\n",
    "df3.shape"
   ]
  },
  {
   "cell_type": "code",
   "execution_count": 16,
   "metadata": {},
   "outputs": [],
   "source": [
    "df4 = df3.drop_duplicates(\n",
    "    subset=['type', 'Area', 'Price', 'City_District', 'rooms'])"
   ]
  },
  {
   "cell_type": "code",
   "execution_count": 17,
   "metadata": {},
   "outputs": [
    {
     "data": {
      "text/plain": [
       "array(['new', 'secondary'], dtype=object)"
      ]
     },
     "execution_count": 17,
     "metadata": {},
     "output_type": "execute_result"
    }
   ],
   "source": [
    "df4[df4['type'] == 'type']\n",
    "df4 = df4[df4['type'] != 'type']\n",
    "df4['type'].unique()"
   ]
  },
  {
   "cell_type": "code",
   "execution_count": 18,
   "metadata": {},
   "outputs": [
    {
     "data": {
      "text/plain": [
       "(7056, 6)"
      ]
     },
     "execution_count": 18,
     "metadata": {},
     "output_type": "execute_result"
    }
   ],
   "source": [
    "df4.duplicated().sum()\n",
    "df4.shape"
   ]
  },
  {
   "cell_type": "code",
   "execution_count": 19,
   "metadata": {},
   "outputs": [
    {
     "data": {
      "text/html": [
       "<div>\n",
       "<style scoped>\n",
       "    .dataframe tbody tr th:only-of-type {\n",
       "        vertical-align: middle;\n",
       "    }\n",
       "\n",
       "    .dataframe tbody tr th {\n",
       "        vertical-align: top;\n",
       "    }\n",
       "\n",
       "    .dataframe thead th {\n",
       "        text-align: right;\n",
       "    }\n",
       "</style>\n",
       "<table border=\"1\" class=\"dataframe\">\n",
       "  <thead>\n",
       "    <tr style=\"text-align: right;\">\n",
       "      <th></th>\n",
       "      <th>Price</th>\n",
       "      <th>Area</th>\n",
       "      <th>rooms</th>\n",
       "      <th>type</th>\n",
       "      <th>City_District</th>\n",
       "      <th>Date</th>\n",
       "    </tr>\n",
       "  </thead>\n",
       "  <tbody>\n",
       "    <tr>\n",
       "      <th>0</th>\n",
       "      <td>40000</td>\n",
       "      <td>44.0</td>\n",
       "      <td>1</td>\n",
       "      <td>new</td>\n",
       "      <td>Tashkent, Yunusabad district</td>\n",
       "      <td>June 24, 2023</td>\n",
       "    </tr>\n",
       "    <tr>\n",
       "      <th>1</th>\n",
       "      <td>17800</td>\n",
       "      <td>14.0</td>\n",
       "      <td>1</td>\n",
       "      <td>new</td>\n",
       "      <td>Tashkent, Yashnabad district</td>\n",
       "      <td>June 25, 2023</td>\n",
       "    </tr>\n",
       "    <tr>\n",
       "      <th>2</th>\n",
       "      <td>60000</td>\n",
       "      <td>42.61</td>\n",
       "      <td>1</td>\n",
       "      <td>new</td>\n",
       "      <td>Tashkent, Yunusabad district</td>\n",
       "      <td>June 15, 2023</td>\n",
       "    </tr>\n",
       "    <tr>\n",
       "      <th>3</th>\n",
       "      <td>41000</td>\n",
       "      <td>38.0</td>\n",
       "      <td>1</td>\n",
       "      <td>new</td>\n",
       "      <td>Tashkent, Mirzo-Ulugbek district</td>\n",
       "      <td>June 24, 2023</td>\n",
       "    </tr>\n",
       "    <tr>\n",
       "      <th>4</th>\n",
       "      <td>52000</td>\n",
       "      <td>40.0</td>\n",
       "      <td>1</td>\n",
       "      <td>new</td>\n",
       "      <td>Tashkent, Chilanzar district</td>\n",
       "      <td>June 24, 2023</td>\n",
       "    </tr>\n",
       "  </tbody>\n",
       "</table>\n",
       "</div>"
      ],
      "text/plain": [
       "   Price   Area rooms type                     City_District           Date\n",
       "0  40000   44.0     1  new      Tashkent, Yunusabad district  June 24, 2023\n",
       "1  17800   14.0     1  new      Tashkent, Yashnabad district  June 25, 2023\n",
       "2  60000  42.61     1  new      Tashkent, Yunusabad district  June 15, 2023\n",
       "3  41000   38.0     1  new  Tashkent, Mirzo-Ulugbek district  June 24, 2023\n",
       "4  52000   40.0     1  new      Tashkent, Chilanzar district  June 24, 2023"
      ]
     },
     "execution_count": 19,
     "metadata": {},
     "output_type": "execute_result"
    }
   ],
   "source": [
    "df4.head()"
   ]
  },
  {
   "attachments": {},
   "cell_type": "markdown",
   "metadata": {},
   "source": [
    "<h2 style='color:blue'>Feature Engineering</h2>\n"
   ]
  },
  {
   "attachments": {},
   "cell_type": "markdown",
   "metadata": {},
   "source": [
    "**Add new feature(city name) from City_District column**\n"
   ]
  },
  {
   "cell_type": "code",
   "execution_count": 20,
   "metadata": {},
   "outputs": [
    {
     "data": {
      "text/html": [
       "<div>\n",
       "<style scoped>\n",
       "    .dataframe tbody tr th:only-of-type {\n",
       "        vertical-align: middle;\n",
       "    }\n",
       "\n",
       "    .dataframe tbody tr th {\n",
       "        vertical-align: top;\n",
       "    }\n",
       "\n",
       "    .dataframe thead th {\n",
       "        text-align: right;\n",
       "    }\n",
       "</style>\n",
       "<table border=\"1\" class=\"dataframe\">\n",
       "  <thead>\n",
       "    <tr style=\"text-align: right;\">\n",
       "      <th></th>\n",
       "      <th>Price</th>\n",
       "      <th>Area</th>\n",
       "      <th>rooms</th>\n",
       "      <th>type</th>\n",
       "      <th>Date</th>\n",
       "      <th>City</th>\n",
       "      <th>District</th>\n",
       "    </tr>\n",
       "  </thead>\n",
       "  <tbody>\n",
       "    <tr>\n",
       "      <th>0</th>\n",
       "      <td>40000</td>\n",
       "      <td>44.0</td>\n",
       "      <td>1</td>\n",
       "      <td>new</td>\n",
       "      <td>June 24, 2023</td>\n",
       "      <td>Tashkent</td>\n",
       "      <td>Yunusabad district</td>\n",
       "    </tr>\n",
       "    <tr>\n",
       "      <th>1</th>\n",
       "      <td>17800</td>\n",
       "      <td>14.0</td>\n",
       "      <td>1</td>\n",
       "      <td>new</td>\n",
       "      <td>June 25, 2023</td>\n",
       "      <td>Tashkent</td>\n",
       "      <td>Yashnabad district</td>\n",
       "    </tr>\n",
       "    <tr>\n",
       "      <th>2</th>\n",
       "      <td>60000</td>\n",
       "      <td>42.61</td>\n",
       "      <td>1</td>\n",
       "      <td>new</td>\n",
       "      <td>June 15, 2023</td>\n",
       "      <td>Tashkent</td>\n",
       "      <td>Yunusabad district</td>\n",
       "    </tr>\n",
       "    <tr>\n",
       "      <th>3</th>\n",
       "      <td>41000</td>\n",
       "      <td>38.0</td>\n",
       "      <td>1</td>\n",
       "      <td>new</td>\n",
       "      <td>June 24, 2023</td>\n",
       "      <td>Tashkent</td>\n",
       "      <td>Mirzo-Ulugbek district</td>\n",
       "    </tr>\n",
       "    <tr>\n",
       "      <th>4</th>\n",
       "      <td>52000</td>\n",
       "      <td>40.0</td>\n",
       "      <td>1</td>\n",
       "      <td>new</td>\n",
       "      <td>June 24, 2023</td>\n",
       "      <td>Tashkent</td>\n",
       "      <td>Chilanzar district</td>\n",
       "    </tr>\n",
       "  </tbody>\n",
       "</table>\n",
       "</div>"
      ],
      "text/plain": [
       "   Price   Area rooms type           Date      City                District\n",
       "0  40000   44.0     1  new  June 24, 2023  Tashkent      Yunusabad district\n",
       "1  17800   14.0     1  new  June 25, 2023  Tashkent      Yashnabad district\n",
       "2  60000  42.61     1  new  June 15, 2023  Tashkent      Yunusabad district\n",
       "3  41000   38.0     1  new  June 24, 2023  Tashkent  Mirzo-Ulugbek district\n",
       "4  52000   40.0     1  new  June 24, 2023  Tashkent      Chilanzar district"
      ]
     },
     "execution_count": 20,
     "metadata": {},
     "output_type": "execute_result"
    }
   ],
   "source": [
    "df4['City'] = df4['City_District'].apply(lambda x: x.split(',')[0])\n",
    "df4['District'] = df4['City_District'].apply(\n",
    "    lambda x: x.replace('Tashkent, ', \"\"))\n",
    "del df4['City_District']\n",
    "df4.head()"
   ]
  },
  {
   "cell_type": "code",
   "execution_count": 21,
   "metadata": {},
   "outputs": [
    {
     "data": {
      "text/html": [
       "<div>\n",
       "<style scoped>\n",
       "    .dataframe tbody tr th:only-of-type {\n",
       "        vertical-align: middle;\n",
       "    }\n",
       "\n",
       "    .dataframe tbody tr th {\n",
       "        vertical-align: top;\n",
       "    }\n",
       "\n",
       "    .dataframe thead th {\n",
       "        text-align: right;\n",
       "    }\n",
       "</style>\n",
       "<table border=\"1\" class=\"dataframe\">\n",
       "  <thead>\n",
       "    <tr style=\"text-align: right;\">\n",
       "      <th></th>\n",
       "      <th>Price</th>\n",
       "      <th>Area</th>\n",
       "      <th>rooms</th>\n",
       "      <th>type</th>\n",
       "      <th>Date</th>\n",
       "      <th>City</th>\n",
       "      <th>District</th>\n",
       "    </tr>\n",
       "  </thead>\n",
       "  <tbody>\n",
       "    <tr>\n",
       "      <th>0</th>\n",
       "      <td>40000</td>\n",
       "      <td>44.0</td>\n",
       "      <td>1</td>\n",
       "      <td>new</td>\n",
       "      <td>June 24, 2023</td>\n",
       "      <td>Tashkent</td>\n",
       "      <td>Yunusabad district</td>\n",
       "    </tr>\n",
       "    <tr>\n",
       "      <th>1</th>\n",
       "      <td>17800</td>\n",
       "      <td>14.0</td>\n",
       "      <td>1</td>\n",
       "      <td>new</td>\n",
       "      <td>June 25, 2023</td>\n",
       "      <td>Tashkent</td>\n",
       "      <td>Yashnabad district</td>\n",
       "    </tr>\n",
       "    <tr>\n",
       "      <th>2</th>\n",
       "      <td>60000</td>\n",
       "      <td>42.61</td>\n",
       "      <td>1</td>\n",
       "      <td>new</td>\n",
       "      <td>June 15, 2023</td>\n",
       "      <td>Tashkent</td>\n",
       "      <td>Yunusabad district</td>\n",
       "    </tr>\n",
       "    <tr>\n",
       "      <th>3</th>\n",
       "      <td>41000</td>\n",
       "      <td>38.0</td>\n",
       "      <td>1</td>\n",
       "      <td>new</td>\n",
       "      <td>June 24, 2023</td>\n",
       "      <td>Tashkent</td>\n",
       "      <td>Mirzo-Ulugbek district</td>\n",
       "    </tr>\n",
       "    <tr>\n",
       "      <th>4</th>\n",
       "      <td>52000</td>\n",
       "      <td>40.0</td>\n",
       "      <td>1</td>\n",
       "      <td>new</td>\n",
       "      <td>June 24, 2023</td>\n",
       "      <td>Tashkent</td>\n",
       "      <td>Chilanzar district</td>\n",
       "    </tr>\n",
       "  </tbody>\n",
       "</table>\n",
       "</div>"
      ],
      "text/plain": [
       "   Price   Area rooms type           Date      City                District\n",
       "0  40000   44.0     1  new  June 24, 2023  Tashkent      Yunusabad district\n",
       "1  17800   14.0     1  new  June 25, 2023  Tashkent      Yashnabad district\n",
       "2  60000  42.61     1  new  June 15, 2023  Tashkent      Yunusabad district\n",
       "3  41000   38.0     1  new  June 24, 2023  Tashkent  Mirzo-Ulugbek district\n",
       "4  52000   40.0     1  new  June 24, 2023  Tashkent      Chilanzar district"
      ]
     },
     "execution_count": 21,
     "metadata": {},
     "output_type": "execute_result"
    }
   ],
   "source": [
    "df4.head()"
   ]
  },
  {
   "attachments": {},
   "cell_type": "markdown",
   "metadata": {},
   "source": [
    "**Add new feature called price per square feet**\n"
   ]
  },
  {
   "cell_type": "code",
   "execution_count": 22,
   "metadata": {},
   "outputs": [],
   "source": [
    "df5 = df4.copy()\n",
    "df5['Price'] = df5['Price'].astype(float)\n",
    "df5['rooms'] = df5['rooms'].astype(int)\n",
    "df5['Area'] = df5['Area'].astype(float)"
   ]
  },
  {
   "cell_type": "code",
   "execution_count": 23,
   "metadata": {},
   "outputs": [],
   "source": [
    "df5 = df5[df5['Area'] != 0]"
   ]
  },
  {
   "cell_type": "code",
   "execution_count": 24,
   "metadata": {
    "scrolled": false
   },
   "outputs": [
    {
     "data": {
      "text/html": [
       "<div>\n",
       "<style scoped>\n",
       "    .dataframe tbody tr th:only-of-type {\n",
       "        vertical-align: middle;\n",
       "    }\n",
       "\n",
       "    .dataframe tbody tr th {\n",
       "        vertical-align: top;\n",
       "    }\n",
       "\n",
       "    .dataframe thead th {\n",
       "        text-align: right;\n",
       "    }\n",
       "</style>\n",
       "<table border=\"1\" class=\"dataframe\">\n",
       "  <thead>\n",
       "    <tr style=\"text-align: right;\">\n",
       "      <th></th>\n",
       "      <th>Price</th>\n",
       "      <th>Area</th>\n",
       "      <th>rooms</th>\n",
       "      <th>type</th>\n",
       "      <th>Date</th>\n",
       "      <th>City</th>\n",
       "      <th>District</th>\n",
       "      <th>price_per_m2</th>\n",
       "    </tr>\n",
       "  </thead>\n",
       "  <tbody>\n",
       "    <tr>\n",
       "      <th>4671</th>\n",
       "      <td>4.0</td>\n",
       "      <td>51.0</td>\n",
       "      <td>1</td>\n",
       "      <td>new</td>\n",
       "      <td>June 29, 2023</td>\n",
       "      <td>Tashkent</td>\n",
       "      <td>Shaikhantahur district</td>\n",
       "      <td>0.08</td>\n",
       "    </tr>\n",
       "    <tr>\n",
       "      <th>11706</th>\n",
       "      <td>4.0</td>\n",
       "      <td>51.0</td>\n",
       "      <td>1</td>\n",
       "      <td>secondary</td>\n",
       "      <td>June 29, 2023</td>\n",
       "      <td>Tashkent</td>\n",
       "      <td>Shaikhantahur district</td>\n",
       "      <td>0.08</td>\n",
       "    </tr>\n",
       "    <tr>\n",
       "      <th>576</th>\n",
       "      <td>682.0</td>\n",
       "      <td>86.0</td>\n",
       "      <td>4</td>\n",
       "      <td>new</td>\n",
       "      <td>June 25, 2023</td>\n",
       "      <td>Tashkent</td>\n",
       "      <td>Chilanzar district</td>\n",
       "      <td>7.93</td>\n",
       "    </tr>\n",
       "    <tr>\n",
       "      <th>5998</th>\n",
       "      <td>682.0</td>\n",
       "      <td>86.0</td>\n",
       "      <td>4</td>\n",
       "      <td>secondary</td>\n",
       "      <td>June 25, 2023</td>\n",
       "      <td>Tashkent</td>\n",
       "      <td>Chilanzar district</td>\n",
       "      <td>7.93</td>\n",
       "    </tr>\n",
       "    <tr>\n",
       "      <th>8944</th>\n",
       "      <td>900.0</td>\n",
       "      <td>95.0</td>\n",
       "      <td>4</td>\n",
       "      <td>secondary</td>\n",
       "      <td>June 26, 2023</td>\n",
       "      <td>Tashkent</td>\n",
       "      <td>Mirzo-Ulugbek district</td>\n",
       "      <td>9.47</td>\n",
       "    </tr>\n",
       "    <tr>\n",
       "      <th>...</th>\n",
       "      <td>...</td>\n",
       "      <td>...</td>\n",
       "      <td>...</td>\n",
       "      <td>...</td>\n",
       "      <td>...</td>\n",
       "      <td>...</td>\n",
       "      <td>...</td>\n",
       "      <td>...</td>\n",
       "    </tr>\n",
       "    <tr>\n",
       "      <th>3201</th>\n",
       "      <td>119000.0</td>\n",
       "      <td>4.0</td>\n",
       "      <td>4</td>\n",
       "      <td>secondary</td>\n",
       "      <td>June 27, 2023</td>\n",
       "      <td>Tashkent</td>\n",
       "      <td>Mirzo-Ulugbek district</td>\n",
       "      <td>29750.00</td>\n",
       "    </tr>\n",
       "    <tr>\n",
       "      <th>9110</th>\n",
       "      <td>97000.0</td>\n",
       "      <td>3.0</td>\n",
       "      <td>4</td>\n",
       "      <td>secondary</td>\n",
       "      <td>June 26, 2023</td>\n",
       "      <td>Tashkent</td>\n",
       "      <td>Mirzo-Ulugbek district</td>\n",
       "      <td>32333.33</td>\n",
       "    </tr>\n",
       "    <tr>\n",
       "      <th>12007</th>\n",
       "      <td>45000.0</td>\n",
       "      <td>1.0</td>\n",
       "      <td>1</td>\n",
       "      <td>secondary</td>\n",
       "      <td>July 02, 2023</td>\n",
       "      <td>Tashkent</td>\n",
       "      <td>Yashnabad district</td>\n",
       "      <td>45000.00</td>\n",
       "    </tr>\n",
       "    <tr>\n",
       "      <th>5779</th>\n",
       "      <td>66000.0</td>\n",
       "      <td>1.0</td>\n",
       "      <td>3</td>\n",
       "      <td>secondary</td>\n",
       "      <td>June 25, 2023</td>\n",
       "      <td>Tashkent</td>\n",
       "      <td>Uchtepinsky district</td>\n",
       "      <td>66000.00</td>\n",
       "    </tr>\n",
       "    <tr>\n",
       "      <th>358</th>\n",
       "      <td>66000.0</td>\n",
       "      <td>1.0</td>\n",
       "      <td>3</td>\n",
       "      <td>new</td>\n",
       "      <td>June 25, 2023</td>\n",
       "      <td>Tashkent</td>\n",
       "      <td>Uchtepinsky district</td>\n",
       "      <td>66000.00</td>\n",
       "    </tr>\n",
       "  </tbody>\n",
       "</table>\n",
       "<p>7052 rows × 8 columns</p>\n",
       "</div>"
      ],
      "text/plain": [
       "          Price  Area  rooms       type           Date      City   \n",
       "4671        4.0  51.0      1        new  June 29, 2023  Tashkent  \\\n",
       "11706       4.0  51.0      1  secondary  June 29, 2023  Tashkent   \n",
       "576       682.0  86.0      4        new  June 25, 2023  Tashkent   \n",
       "5998      682.0  86.0      4  secondary  June 25, 2023  Tashkent   \n",
       "8944      900.0  95.0      4  secondary  June 26, 2023  Tashkent   \n",
       "...         ...   ...    ...        ...            ...       ...   \n",
       "3201   119000.0   4.0      4  secondary  June 27, 2023  Tashkent   \n",
       "9110    97000.0   3.0      4  secondary  June 26, 2023  Tashkent   \n",
       "12007   45000.0   1.0      1  secondary  July 02, 2023  Tashkent   \n",
       "5779    66000.0   1.0      3  secondary  June 25, 2023  Tashkent   \n",
       "358     66000.0   1.0      3        new  June 25, 2023  Tashkent   \n",
       "\n",
       "                     District  price_per_m2  \n",
       "4671   Shaikhantahur district          0.08  \n",
       "11706  Shaikhantahur district          0.08  \n",
       "576        Chilanzar district          7.93  \n",
       "5998       Chilanzar district          7.93  \n",
       "8944   Mirzo-Ulugbek district          9.47  \n",
       "...                       ...           ...  \n",
       "3201   Mirzo-Ulugbek district      29750.00  \n",
       "9110   Mirzo-Ulugbek district      32333.33  \n",
       "12007      Yashnabad district      45000.00  \n",
       "5779     Uchtepinsky district      66000.00  \n",
       "358      Uchtepinsky district      66000.00  \n",
       "\n",
       "[7052 rows x 8 columns]"
      ]
     },
     "execution_count": 24,
     "metadata": {},
     "output_type": "execute_result"
    }
   ],
   "source": [
    "\n",
    "df5['price_per_m2'] = round(df5['Price']/df5['Area'], 2)\n",
    "df5.sort_values(by=['price_per_m2'])"
   ]
  },
  {
   "cell_type": "code",
   "execution_count": 25,
   "metadata": {
    "scrolled": true
   },
   "outputs": [
    {
     "data": {
      "text/plain": [
       "count     7052.000000\n",
       "mean      1237.902645\n",
       "std       1513.055865\n",
       "min          0.080000\n",
       "25%        956.520000\n",
       "50%       1136.360000\n",
       "75%       1361.110000\n",
       "max      66000.000000\n",
       "Name: price_per_m2, dtype: float64"
      ]
     },
     "execution_count": 25,
     "metadata": {},
     "output_type": "execute_result"
    }
   ],
   "source": [
    "df5_stats = df5['price_per_m2'].describe()\n",
    "df5_stats"
   ]
  },
  {
   "attachments": {},
   "cell_type": "markdown",
   "metadata": {},
   "source": [
    "<h2 style=\"color:blue\">Outlier Removal Using Business Logic</h2>\n"
   ]
  },
  {
   "attachments": {},
   "cell_type": "markdown",
   "metadata": {},
   "source": [
    "**As a data scientist when you have a conversation with your business manager (who has expertise in real estate), he will tell you that normally per square meter is $500. If you have for example apartment with per meter $ 200.0 sqft apartment with 2 rooms that seems suspicious and can be removed as an outlier. We will remove such outliers by keeping our minimum thresold per meter to be $ 500 **\n"
   ]
  },
  {
   "cell_type": "code",
   "execution_count": 26,
   "metadata": {
    "scrolled": true
   },
   "outputs": [],
   "source": [
    "df6 = df5[df5['price_per_m2'] > 500]"
   ]
  },
  {
   "attachments": {},
   "cell_type": "markdown",
   "metadata": {},
   "source": [
    "** The minimum square meter for a 1-bedroom apartment in Tashkent is typically around 40 square meters. However, there are some apartments that are smaller than this, especially in the outskirts of the city. **\n"
   ]
  },
  {
   "cell_type": "code",
   "execution_count": 27,
   "metadata": {},
   "outputs": [
    {
     "data": {
      "text/html": [
       "<div>\n",
       "<style scoped>\n",
       "    .dataframe tbody tr th:only-of-type {\n",
       "        vertical-align: middle;\n",
       "    }\n",
       "\n",
       "    .dataframe tbody tr th {\n",
       "        vertical-align: top;\n",
       "    }\n",
       "\n",
       "    .dataframe thead th {\n",
       "        text-align: right;\n",
       "    }\n",
       "</style>\n",
       "<table border=\"1\" class=\"dataframe\">\n",
       "  <thead>\n",
       "    <tr style=\"text-align: right;\">\n",
       "      <th></th>\n",
       "      <th>Price</th>\n",
       "      <th>Area</th>\n",
       "      <th>rooms</th>\n",
       "      <th>type</th>\n",
       "      <th>Date</th>\n",
       "      <th>City</th>\n",
       "      <th>District</th>\n",
       "      <th>price_per_m2</th>\n",
       "    </tr>\n",
       "  </thead>\n",
       "  <tbody>\n",
       "    <tr>\n",
       "      <th>0</th>\n",
       "      <td>40000.0</td>\n",
       "      <td>44.00</td>\n",
       "      <td>1</td>\n",
       "      <td>new</td>\n",
       "      <td>June 24, 2023</td>\n",
       "      <td>Tashkent</td>\n",
       "      <td>Yunusabad district</td>\n",
       "      <td>909.09</td>\n",
       "    </tr>\n",
       "    <tr>\n",
       "      <th>2</th>\n",
       "      <td>60000.0</td>\n",
       "      <td>42.61</td>\n",
       "      <td>1</td>\n",
       "      <td>new</td>\n",
       "      <td>June 15, 2023</td>\n",
       "      <td>Tashkent</td>\n",
       "      <td>Yunusabad district</td>\n",
       "      <td>1408.12</td>\n",
       "    </tr>\n",
       "    <tr>\n",
       "      <th>6</th>\n",
       "      <td>45000.0</td>\n",
       "      <td>42.00</td>\n",
       "      <td>1</td>\n",
       "      <td>new</td>\n",
       "      <td>June 25, 2023</td>\n",
       "      <td>Tashkent</td>\n",
       "      <td>Yashnabad district</td>\n",
       "      <td>1071.43</td>\n",
       "    </tr>\n",
       "    <tr>\n",
       "      <th>10</th>\n",
       "      <td>71891.0</td>\n",
       "      <td>46.00</td>\n",
       "      <td>1</td>\n",
       "      <td>new</td>\n",
       "      <td>June 25, 2023</td>\n",
       "      <td>Tashkent</td>\n",
       "      <td>Yunusabad district</td>\n",
       "      <td>1562.85</td>\n",
       "    </tr>\n",
       "    <tr>\n",
       "      <th>16</th>\n",
       "      <td>43500.0</td>\n",
       "      <td>43.00</td>\n",
       "      <td>1</td>\n",
       "      <td>new</td>\n",
       "      <td>June 20, 2023</td>\n",
       "      <td>Tashkent</td>\n",
       "      <td>Yunusabad district</td>\n",
       "      <td>1011.63</td>\n",
       "    </tr>\n",
       "    <tr>\n",
       "      <th>...</th>\n",
       "      <td>...</td>\n",
       "      <td>...</td>\n",
       "      <td>...</td>\n",
       "      <td>...</td>\n",
       "      <td>...</td>\n",
       "      <td>...</td>\n",
       "      <td>...</td>\n",
       "      <td>...</td>\n",
       "    </tr>\n",
       "    <tr>\n",
       "      <th>12650</th>\n",
       "      <td>47000.0</td>\n",
       "      <td>42.00</td>\n",
       "      <td>1</td>\n",
       "      <td>secondary</td>\n",
       "      <td>July 03, 2023</td>\n",
       "      <td>Tashkent</td>\n",
       "      <td>Yunusabad district</td>\n",
       "      <td>1119.05</td>\n",
       "    </tr>\n",
       "    <tr>\n",
       "      <th>12652</th>\n",
       "      <td>55000.0</td>\n",
       "      <td>44.00</td>\n",
       "      <td>1</td>\n",
       "      <td>secondary</td>\n",
       "      <td>July 03, 2023</td>\n",
       "      <td>Tashkent</td>\n",
       "      <td>Chilanzar district</td>\n",
       "      <td>1250.00</td>\n",
       "    </tr>\n",
       "    <tr>\n",
       "      <th>12657</th>\n",
       "      <td>53000.0</td>\n",
       "      <td>43.00</td>\n",
       "      <td>1</td>\n",
       "      <td>secondary</td>\n",
       "      <td>July 03, 2023</td>\n",
       "      <td>Tashkent</td>\n",
       "      <td>Shaikhantahur district</td>\n",
       "      <td>1232.56</td>\n",
       "    </tr>\n",
       "    <tr>\n",
       "      <th>12661</th>\n",
       "      <td>46500.0</td>\n",
       "      <td>42.00</td>\n",
       "      <td>1</td>\n",
       "      <td>secondary</td>\n",
       "      <td>July 03, 2023</td>\n",
       "      <td>Tashkent</td>\n",
       "      <td>Almazar district</td>\n",
       "      <td>1107.14</td>\n",
       "    </tr>\n",
       "    <tr>\n",
       "      <th>12665</th>\n",
       "      <td>70000.0</td>\n",
       "      <td>48.00</td>\n",
       "      <td>1</td>\n",
       "      <td>secondary</td>\n",
       "      <td>July 03, 2023</td>\n",
       "      <td>Tashkent</td>\n",
       "      <td>Yunusabad district</td>\n",
       "      <td>1458.33</td>\n",
       "    </tr>\n",
       "  </tbody>\n",
       "</table>\n",
       "<p>5014 rows × 8 columns</p>\n",
       "</div>"
      ],
      "text/plain": [
       "         Price   Area  rooms       type           Date      City   \n",
       "0      40000.0  44.00      1        new  June 24, 2023  Tashkent  \\\n",
       "2      60000.0  42.61      1        new  June 15, 2023  Tashkent   \n",
       "6      45000.0  42.00      1        new  June 25, 2023  Tashkent   \n",
       "10     71891.0  46.00      1        new  June 25, 2023  Tashkent   \n",
       "16     43500.0  43.00      1        new  June 20, 2023  Tashkent   \n",
       "...        ...    ...    ...        ...            ...       ...   \n",
       "12650  47000.0  42.00      1  secondary  July 03, 2023  Tashkent   \n",
       "12652  55000.0  44.00      1  secondary  July 03, 2023  Tashkent   \n",
       "12657  53000.0  43.00      1  secondary  July 03, 2023  Tashkent   \n",
       "12661  46500.0  42.00      1  secondary  July 03, 2023  Tashkent   \n",
       "12665  70000.0  48.00      1  secondary  July 03, 2023  Tashkent   \n",
       "\n",
       "                     District  price_per_m2  \n",
       "0          Yunusabad district        909.09  \n",
       "2          Yunusabad district       1408.12  \n",
       "6          Yashnabad district       1071.43  \n",
       "10         Yunusabad district       1562.85  \n",
       "16         Yunusabad district       1011.63  \n",
       "...                       ...           ...  \n",
       "12650      Yunusabad district       1119.05  \n",
       "12652      Chilanzar district       1250.00  \n",
       "12657  Shaikhantahur district       1232.56  \n",
       "12661        Almazar district       1107.14  \n",
       "12665      Yunusabad district       1458.33  \n",
       "\n",
       "[5014 rows x 8 columns]"
      ]
     },
     "execution_count": 27,
     "metadata": {},
     "output_type": "execute_result"
    }
   ],
   "source": [
    "df6 = df6[df6['Area'] > 40]\n",
    "df6"
   ]
  },
  {
   "cell_type": "code",
   "execution_count": 28,
   "metadata": {},
   "outputs": [],
   "source": [
    "df6.to_csv(\"olx_report.csv\")"
   ]
  },
  {
   "cell_type": "code",
   "execution_count": 29,
   "metadata": {},
   "outputs": [
    {
     "data": {
      "text/plain": [
       "count    5014.000000\n",
       "mean     1113.648997\n",
       "std       340.450989\n",
       "min       515.380000\n",
       "25%       904.760000\n",
       "50%      1052.630000\n",
       "75%      1260.000000\n",
       "max      8454.550000\n",
       "Name: price_per_m2, dtype: float64"
      ]
     },
     "execution_count": 29,
     "metadata": {},
     "output_type": "execute_result"
    }
   ],
   "source": [
    "df6.price_per_m2.describe()"
   ]
  },
  {
   "cell_type": "code",
   "execution_count": 30,
   "metadata": {},
   "outputs": [
    {
     "data": {
      "image/png": "[encoded data removed]",
      "text/plain": [
       "<Figure size 2000x1000 with 1 Axes>"
      ]
     },
     "metadata": {},
     "output_type": "display_data"
    }
   ],
   "source": [
    "import matplotlib.pyplot as plt\n",
    "import numpy as np\n",
    "\n",
    "# Create a list of the price per square meter\n",
    "prices = df6.price_per_m2.tolist()\n",
    "\n",
    "# Create a histogram\n",
    "plt.hist(prices, bins=70, rwidth=0.8)\n",
    "\n",
    "# Add a title and labels to the axes\n",
    "plt.title(\"Price per Square Meter in Tashkent\")\n",
    "plt.xlabel(\"Price per Square Meter ($)\")\n",
    "plt.ylabel(\"Number of Apartments\")\n",
    "\n",
    "# Show the plot\n",
    "plt.show()"
   ]
  },
  {
   "attachments": {},
   "cell_type": "markdown",
   "metadata": {},
   "source": [
    "**Let's check if for a given location how does the 2 BHK and 3 BHK property prices look like**\n"
   ]
  },
  {
   "cell_type": "code",
   "execution_count": 31,
   "metadata": {},
   "outputs": [
    {
     "data": {
      "image/png": "[encoded data removed]",
      "text/plain": [
       "<Figure size 2000x1000 with 1 Axes>"
      ]
     },
     "metadata": {},
     "output_type": "display_data"
    }
   ],
   "source": [
    "plt.scatter(df6.Area, df6.Price)\n",
    "\n",
    "# Add a title and labels\n",
    "plt.title(\"Scatter Plot of Price vs Area\")\n",
    "plt.xlabel(\"Area (Square Meters)\")\n",
    "plt.ylabel(\"Price (USD)\")\n",
    "\n",
    "# Show the plot\n",
    "plt.show()"
   ]
  },
  {
   "attachments": {},
   "cell_type": "markdown",
   "metadata": {},
   "source": [
    "** From the scatter plot above, we can see that the price of the house is directly proportional to the size of the surface of the house. **\n"
   ]
  },
  {
   "attachments": {},
   "cell_type": "markdown",
   "metadata": {},
   "source": [
    "<img src=\"hebbal_outliers.png\"></img>\n"
   ]
  },
  {
   "attachments": {},
   "cell_type": "markdown",
   "metadata": {},
   "source": [
    "<h2 style='color:blue'>Use One Hot Encoding For Location</h2>\n"
   ]
  },
  {
   "cell_type": "code",
   "execution_count": 32,
   "metadata": {},
   "outputs": [
    {
     "data": {
      "text/html": [
       "<div>\n",
       "<style scoped>\n",
       "    .dataframe tbody tr th:only-of-type {\n",
       "        vertical-align: middle;\n",
       "    }\n",
       "\n",
       "    .dataframe tbody tr th {\n",
       "        vertical-align: top;\n",
       "    }\n",
       "\n",
       "    .dataframe thead th {\n",
       "        text-align: right;\n",
       "    }\n",
       "</style>\n",
       "<table border=\"1\" class=\"dataframe\">\n",
       "  <thead>\n",
       "    <tr style=\"text-align: right;\">\n",
       "      <th></th>\n",
       "      <th>Price</th>\n",
       "      <th>Area</th>\n",
       "      <th>rooms</th>\n",
       "      <th>type</th>\n",
       "      <th>Date</th>\n",
       "      <th>City</th>\n",
       "      <th>District</th>\n",
       "      <th>price_per_m2</th>\n",
       "    </tr>\n",
       "  </thead>\n",
       "  <tbody>\n",
       "    <tr>\n",
       "      <th>0</th>\n",
       "      <td>40000.0</td>\n",
       "      <td>44.00</td>\n",
       "      <td>1</td>\n",
       "      <td>new</td>\n",
       "      <td>June 24, 2023</td>\n",
       "      <td>Tashkent</td>\n",
       "      <td>Yunusabad district</td>\n",
       "      <td>909.09</td>\n",
       "    </tr>\n",
       "    <tr>\n",
       "      <th>2</th>\n",
       "      <td>60000.0</td>\n",
       "      <td>42.61</td>\n",
       "      <td>1</td>\n",
       "      <td>new</td>\n",
       "      <td>June 15, 2023</td>\n",
       "      <td>Tashkent</td>\n",
       "      <td>Yunusabad district</td>\n",
       "      <td>1408.12</td>\n",
       "    </tr>\n",
       "    <tr>\n",
       "      <th>6</th>\n",
       "      <td>45000.0</td>\n",
       "      <td>42.00</td>\n",
       "      <td>1</td>\n",
       "      <td>new</td>\n",
       "      <td>June 25, 2023</td>\n",
       "      <td>Tashkent</td>\n",
       "      <td>Yashnabad district</td>\n",
       "      <td>1071.43</td>\n",
       "    </tr>\n",
       "    <tr>\n",
       "      <th>10</th>\n",
       "      <td>71891.0</td>\n",
       "      <td>46.00</td>\n",
       "      <td>1</td>\n",
       "      <td>new</td>\n",
       "      <td>June 25, 2023</td>\n",
       "      <td>Tashkent</td>\n",
       "      <td>Yunusabad district</td>\n",
       "      <td>1562.85</td>\n",
       "    </tr>\n",
       "    <tr>\n",
       "      <th>16</th>\n",
       "      <td>43500.0</td>\n",
       "      <td>43.00</td>\n",
       "      <td>1</td>\n",
       "      <td>new</td>\n",
       "      <td>June 20, 2023</td>\n",
       "      <td>Tashkent</td>\n",
       "      <td>Yunusabad district</td>\n",
       "      <td>1011.63</td>\n",
       "    </tr>\n",
       "    <tr>\n",
       "      <th>...</th>\n",
       "      <td>...</td>\n",
       "      <td>...</td>\n",
       "      <td>...</td>\n",
       "      <td>...</td>\n",
       "      <td>...</td>\n",
       "      <td>...</td>\n",
       "      <td>...</td>\n",
       "      <td>...</td>\n",
       "    </tr>\n",
       "    <tr>\n",
       "      <th>12650</th>\n",
       "      <td>47000.0</td>\n",
       "      <td>42.00</td>\n",
       "      <td>1</td>\n",
       "      <td>secondary</td>\n",
       "      <td>July 03, 2023</td>\n",
       "      <td>Tashkent</td>\n",
       "      <td>Yunusabad district</td>\n",
       "      <td>1119.05</td>\n",
       "    </tr>\n",
       "    <tr>\n",
       "      <th>12652</th>\n",
       "      <td>55000.0</td>\n",
       "      <td>44.00</td>\n",
       "      <td>1</td>\n",
       "      <td>secondary</td>\n",
       "      <td>July 03, 2023</td>\n",
       "      <td>Tashkent</td>\n",
       "      <td>Chilanzar district</td>\n",
       "      <td>1250.00</td>\n",
       "    </tr>\n",
       "    <tr>\n",
       "      <th>12657</th>\n",
       "      <td>53000.0</td>\n",
       "      <td>43.00</td>\n",
       "      <td>1</td>\n",
       "      <td>secondary</td>\n",
       "      <td>July 03, 2023</td>\n",
       "      <td>Tashkent</td>\n",
       "      <td>Shaikhantahur district</td>\n",
       "      <td>1232.56</td>\n",
       "    </tr>\n",
       "    <tr>\n",
       "      <th>12661</th>\n",
       "      <td>46500.0</td>\n",
       "      <td>42.00</td>\n",
       "      <td>1</td>\n",
       "      <td>secondary</td>\n",
       "      <td>July 03, 2023</td>\n",
       "      <td>Tashkent</td>\n",
       "      <td>Almazar district</td>\n",
       "      <td>1107.14</td>\n",
       "    </tr>\n",
       "    <tr>\n",
       "      <th>12665</th>\n",
       "      <td>70000.0</td>\n",
       "      <td>48.00</td>\n",
       "      <td>1</td>\n",
       "      <td>secondary</td>\n",
       "      <td>July 03, 2023</td>\n",
       "      <td>Tashkent</td>\n",
       "      <td>Yunusabad district</td>\n",
       "      <td>1458.33</td>\n",
       "    </tr>\n",
       "  </tbody>\n",
       "</table>\n",
       "<p>5014 rows × 8 columns</p>\n",
       "</div>"
      ],
      "text/plain": [
       "         Price   Area  rooms       type           Date      City   \n",
       "0      40000.0  44.00      1        new  June 24, 2023  Tashkent  \\\n",
       "2      60000.0  42.61      1        new  June 15, 2023  Tashkent   \n",
       "6      45000.0  42.00      1        new  June 25, 2023  Tashkent   \n",
       "10     71891.0  46.00      1        new  June 25, 2023  Tashkent   \n",
       "16     43500.0  43.00      1        new  June 20, 2023  Tashkent   \n",
       "...        ...    ...    ...        ...            ...       ...   \n",
       "12650  47000.0  42.00      1  secondary  July 03, 2023  Tashkent   \n",
       "12652  55000.0  44.00      1  secondary  July 03, 2023  Tashkent   \n",
       "12657  53000.0  43.00      1  secondary  July 03, 2023  Tashkent   \n",
       "12661  46500.0  42.00      1  secondary  July 03, 2023  Tashkent   \n",
       "12665  70000.0  48.00      1  secondary  July 03, 2023  Tashkent   \n",
       "\n",
       "                     District  price_per_m2  \n",
       "0          Yunusabad district        909.09  \n",
       "2          Yunusabad district       1408.12  \n",
       "6          Yashnabad district       1071.43  \n",
       "10         Yunusabad district       1562.85  \n",
       "16         Yunusabad district       1011.63  \n",
       "...                       ...           ...  \n",
       "12650      Yunusabad district       1119.05  \n",
       "12652      Chilanzar district       1250.00  \n",
       "12657  Shaikhantahur district       1232.56  \n",
       "12661        Almazar district       1107.14  \n",
       "12665      Yunusabad district       1458.33  \n",
       "\n",
       "[5014 rows x 8 columns]"
      ]
     },
     "execution_count": 32,
     "metadata": {},
     "output_type": "execute_result"
    }
   ],
   "source": [
    "df6"
   ]
  },
  {
   "cell_type": "code",
   "execution_count": 50,
   "metadata": {},
   "outputs": [],
   "source": [
    "dummies1 = pd.get_dummies(df6['District'], dtype=int)"
   ]
  },
  {
   "cell_type": "code",
   "execution_count": 53,
   "metadata": {},
   "outputs": [
    {
     "data": {
      "text/html": [
       "<div>\n",
       "<style scoped>\n",
       "    .dataframe tbody tr th:only-of-type {\n",
       "        vertical-align: middle;\n",
       "    }\n",
       "\n",
       "    .dataframe tbody tr th {\n",
       "        vertical-align: top;\n",
       "    }\n",
       "\n",
       "    .dataframe thead th {\n",
       "        text-align: right;\n",
       "    }\n",
       "</style>\n",
       "<table border=\"1\" class=\"dataframe\">\n",
       "  <thead>\n",
       "    <tr style=\"text-align: right;\">\n",
       "      <th></th>\n",
       "      <th>Price</th>\n",
       "      <th>Area</th>\n",
       "      <th>rooms</th>\n",
       "      <th>type</th>\n",
       "      <th>Date</th>\n",
       "      <th>Almazar district</th>\n",
       "      <th>Bektemir district</th>\n",
       "      <th>Chilanzar district</th>\n",
       "      <th>Mirabad district</th>\n",
       "      <th>Mirzo-Ulugbek district</th>\n",
       "      <th>Sergeli district</th>\n",
       "      <th>Shaikhantahur district</th>\n",
       "      <th>Uchtepinsky district</th>\n",
       "      <th>Yakkasarai district</th>\n",
       "      <th>Yashnabad district</th>\n",
       "      <th>Yunusabad district</th>\n",
       "    </tr>\n",
       "  </thead>\n",
       "  <tbody>\n",
       "    <tr>\n",
       "      <th>0</th>\n",
       "      <td>40000.0</td>\n",
       "      <td>44.00</td>\n",
       "      <td>1</td>\n",
       "      <td>new</td>\n",
       "      <td>June 24, 2023</td>\n",
       "      <td>0</td>\n",
       "      <td>0</td>\n",
       "      <td>0</td>\n",
       "      <td>0</td>\n",
       "      <td>0</td>\n",
       "      <td>0</td>\n",
       "      <td>0</td>\n",
       "      <td>0</td>\n",
       "      <td>0</td>\n",
       "      <td>0</td>\n",
       "      <td>1</td>\n",
       "    </tr>\n",
       "    <tr>\n",
       "      <th>2</th>\n",
       "      <td>60000.0</td>\n",
       "      <td>42.61</td>\n",
       "      <td>1</td>\n",
       "      <td>new</td>\n",
       "      <td>June 15, 2023</td>\n",
       "      <td>0</td>\n",
       "      <td>0</td>\n",
       "      <td>0</td>\n",
       "      <td>0</td>\n",
       "      <td>0</td>\n",
       "      <td>0</td>\n",
       "      <td>0</td>\n",
       "      <td>0</td>\n",
       "      <td>0</td>\n",
       "      <td>0</td>\n",
       "      <td>1</td>\n",
       "    </tr>\n",
       "    <tr>\n",
       "      <th>6</th>\n",
       "      <td>45000.0</td>\n",
       "      <td>42.00</td>\n",
       "      <td>1</td>\n",
       "      <td>new</td>\n",
       "      <td>June 25, 2023</td>\n",
       "      <td>0</td>\n",
       "      <td>0</td>\n",
       "      <td>0</td>\n",
       "      <td>0</td>\n",
       "      <td>0</td>\n",
       "      <td>0</td>\n",
       "      <td>0</td>\n",
       "      <td>0</td>\n",
       "      <td>0</td>\n",
       "      <td>1</td>\n",
       "      <td>0</td>\n",
       "    </tr>\n",
       "    <tr>\n",
       "      <th>10</th>\n",
       "      <td>71891.0</td>\n",
       "      <td>46.00</td>\n",
       "      <td>1</td>\n",
       "      <td>new</td>\n",
       "      <td>June 25, 2023</td>\n",
       "      <td>0</td>\n",
       "      <td>0</td>\n",
       "      <td>0</td>\n",
       "      <td>0</td>\n",
       "      <td>0</td>\n",
       "      <td>0</td>\n",
       "      <td>0</td>\n",
       "      <td>0</td>\n",
       "      <td>0</td>\n",
       "      <td>0</td>\n",
       "      <td>1</td>\n",
       "    </tr>\n",
       "    <tr>\n",
       "      <th>16</th>\n",
       "      <td>43500.0</td>\n",
       "      <td>43.00</td>\n",
       "      <td>1</td>\n",
       "      <td>new</td>\n",
       "      <td>June 20, 2023</td>\n",
       "      <td>0</td>\n",
       "      <td>0</td>\n",
       "      <td>0</td>\n",
       "      <td>0</td>\n",
       "      <td>0</td>\n",
       "      <td>0</td>\n",
       "      <td>0</td>\n",
       "      <td>0</td>\n",
       "      <td>0</td>\n",
       "      <td>0</td>\n",
       "      <td>1</td>\n",
       "    </tr>\n",
       "    <tr>\n",
       "      <th>...</th>\n",
       "      <td>...</td>\n",
       "      <td>...</td>\n",
       "      <td>...</td>\n",
       "      <td>...</td>\n",
       "      <td>...</td>\n",
       "      <td>...</td>\n",
       "      <td>...</td>\n",
       "      <td>...</td>\n",
       "      <td>...</td>\n",
       "      <td>...</td>\n",
       "      <td>...</td>\n",
       "      <td>...</td>\n",
       "      <td>...</td>\n",
       "      <td>...</td>\n",
       "      <td>...</td>\n",
       "      <td>...</td>\n",
       "    </tr>\n",
       "    <tr>\n",
       "      <th>12650</th>\n",
       "      <td>47000.0</td>\n",
       "      <td>42.00</td>\n",
       "      <td>1</td>\n",
       "      <td>secondary</td>\n",
       "      <td>July 03, 2023</td>\n",
       "      <td>0</td>\n",
       "      <td>0</td>\n",
       "      <td>0</td>\n",
       "      <td>0</td>\n",
       "      <td>0</td>\n",
       "      <td>0</td>\n",
       "      <td>0</td>\n",
       "      <td>0</td>\n",
       "      <td>0</td>\n",
       "      <td>0</td>\n",
       "      <td>1</td>\n",
       "    </tr>\n",
       "    <tr>\n",
       "      <th>12652</th>\n",
       "      <td>55000.0</td>\n",
       "      <td>44.00</td>\n",
       "      <td>1</td>\n",
       "      <td>secondary</td>\n",
       "      <td>July 03, 2023</td>\n",
       "      <td>0</td>\n",
       "      <td>0</td>\n",
       "      <td>1</td>\n",
       "      <td>0</td>\n",
       "      <td>0</td>\n",
       "      <td>0</td>\n",
       "      <td>0</td>\n",
       "      <td>0</td>\n",
       "      <td>0</td>\n",
       "      <td>0</td>\n",
       "      <td>0</td>\n",
       "    </tr>\n",
       "    <tr>\n",
       "      <th>12657</th>\n",
       "      <td>53000.0</td>\n",
       "      <td>43.00</td>\n",
       "      <td>1</td>\n",
       "      <td>secondary</td>\n",
       "      <td>July 03, 2023</td>\n",
       "      <td>0</td>\n",
       "      <td>0</td>\n",
       "      <td>0</td>\n",
       "      <td>0</td>\n",
       "      <td>0</td>\n",
       "      <td>0</td>\n",
       "      <td>1</td>\n",
       "      <td>0</td>\n",
       "      <td>0</td>\n",
       "      <td>0</td>\n",
       "      <td>0</td>\n",
       "    </tr>\n",
       "    <tr>\n",
       "      <th>12661</th>\n",
       "      <td>46500.0</td>\n",
       "      <td>42.00</td>\n",
       "      <td>1</td>\n",
       "      <td>secondary</td>\n",
       "      <td>July 03, 2023</td>\n",
       "      <td>1</td>\n",
       "      <td>0</td>\n",
       "      <td>0</td>\n",
       "      <td>0</td>\n",
       "      <td>0</td>\n",
       "      <td>0</td>\n",
       "      <td>0</td>\n",
       "      <td>0</td>\n",
       "      <td>0</td>\n",
       "      <td>0</td>\n",
       "      <td>0</td>\n",
       "    </tr>\n",
       "    <tr>\n",
       "      <th>12665</th>\n",
       "      <td>70000.0</td>\n",
       "      <td>48.00</td>\n",
       "      <td>1</td>\n",
       "      <td>secondary</td>\n",
       "      <td>July 03, 2023</td>\n",
       "      <td>0</td>\n",
       "      <td>0</td>\n",
       "      <td>0</td>\n",
       "      <td>0</td>\n",
       "      <td>0</td>\n",
       "      <td>0</td>\n",
       "      <td>0</td>\n",
       "      <td>0</td>\n",
       "      <td>0</td>\n",
       "      <td>0</td>\n",
       "      <td>1</td>\n",
       "    </tr>\n",
       "  </tbody>\n",
       "</table>\n",
       "<p>5014 rows × 16 columns</p>\n",
       "</div>"
      ],
      "text/plain": [
       "         Price   Area  rooms       type           Date  Almazar district   \n",
       "0      40000.0  44.00      1        new  June 24, 2023                 0  \\\n",
       "2      60000.0  42.61      1        new  June 15, 2023                 0   \n",
       "6      45000.0  42.00      1        new  June 25, 2023                 0   \n",
       "10     71891.0  46.00      1        new  June 25, 2023                 0   \n",
       "16     43500.0  43.00      1        new  June 20, 2023                 0   \n",
       "...        ...    ...    ...        ...            ...               ...   \n",
       "12650  47000.0  42.00      1  secondary  July 03, 2023                 0   \n",
       "12652  55000.0  44.00      1  secondary  July 03, 2023                 0   \n",
       "12657  53000.0  43.00      1  secondary  July 03, 2023                 0   \n",
       "12661  46500.0  42.00      1  secondary  July 03, 2023                 1   \n",
       "12665  70000.0  48.00      1  secondary  July 03, 2023                 0   \n",
       "\n",
       "       Bektemir district  Chilanzar district  Mirabad district   \n",
       "0                      0                   0                 0  \\\n",
       "2                      0                   0                 0   \n",
       "6                      0                   0                 0   \n",
       "10                     0                   0                 0   \n",
       "16                     0                   0                 0   \n",
       "...                  ...                 ...               ...   \n",
       "12650                  0                   0                 0   \n",
       "12652                  0                   1                 0   \n",
       "12657                  0                   0                 0   \n",
       "12661                  0                   0                 0   \n",
       "12665                  0                   0                 0   \n",
       "\n",
       "       Mirzo-Ulugbek district  Sergeli district  Shaikhantahur district   \n",
       "0                           0                 0                       0  \\\n",
       "2                           0                 0                       0   \n",
       "6                           0                 0                       0   \n",
       "10                          0                 0                       0   \n",
       "16                          0                 0                       0   \n",
       "...                       ...               ...                     ...   \n",
       "12650                       0                 0                       0   \n",
       "12652                       0                 0                       0   \n",
       "12657                       0                 0                       1   \n",
       "12661                       0                 0                       0   \n",
       "12665                       0                 0                       0   \n",
       "\n",
       "       Uchtepinsky district  Yakkasarai district  Yashnabad district   \n",
       "0                         0                    0                   0  \\\n",
       "2                         0                    0                   0   \n",
       "6                         0                    0                   1   \n",
       "10                        0                    0                   0   \n",
       "16                        0                    0                   0   \n",
       "...                     ...                  ...                 ...   \n",
       "12650                     0                    0                   0   \n",
       "12652                     0                    0                   0   \n",
       "12657                     0                    0                   0   \n",
       "12661                     0                    0                   0   \n",
       "12665                     0                    0                   0   \n",
       "\n",
       "       Yunusabad district  \n",
       "0                       1  \n",
       "2                       1  \n",
       "6                       0  \n",
       "10                      1  \n",
       "16                      1  \n",
       "...                   ...  \n",
       "12650                   1  \n",
       "12652                   0  \n",
       "12657                   0  \n",
       "12661                   0  \n",
       "12665                   1  \n",
       "\n",
       "[5014 rows x 16 columns]"
      ]
     },
     "execution_count": 53,
     "metadata": {},
     "output_type": "execute_result"
    }
   ],
   "source": [
    "df7 = pd.concat([df6, dummies1], axis=1)\n",
    "df7.head()\n",
    "df8 = df7.drop(['City', 'District', 'price_per_m2'], axis=1)\n",
    "df8"
   ]
  },
  {
   "cell_type": "code",
   "execution_count": 56,
   "metadata": {},
   "outputs": [
    {
     "name": "stdout",
     "output_type": "stream",
     "text": [
      "1899 3115\n"
     ]
    }
   ],
   "source": [
    "new = df8[df8['type'] == 'new']\n",
    "secondary = df8[df8['type'] == 'secondary']\n",
    "print(len(new), len(secondary))"
   ]
  },
  {
   "attachments": {},
   "cell_type": "markdown",
   "metadata": {},
   "source": [
    "<h2 style='color:blue'>Build a Model Now...</h2>\n"
   ]
  },
  {
   "cell_type": "code",
   "execution_count": 57,
   "metadata": {},
   "outputs": [
    {
     "data": {
      "text/plain": [
       "(1899, 16)"
      ]
     },
     "execution_count": 57,
     "metadata": {},
     "output_type": "execute_result"
    }
   ],
   "source": [
    "new.shape"
   ]
  },
  {
   "cell_type": "code",
   "execution_count": 65,
   "metadata": {
    "scrolled": true
   },
   "outputs": [
    {
     "data": {
      "text/html": [
       "<div>\n",
       "<style scoped>\n",
       "    .dataframe tbody tr th:only-of-type {\n",
       "        vertical-align: middle;\n",
       "    }\n",
       "\n",
       "    .dataframe tbody tr th {\n",
       "        vertical-align: top;\n",
       "    }\n",
       "\n",
       "    .dataframe thead th {\n",
       "        text-align: right;\n",
       "    }\n",
       "</style>\n",
       "<table border=\"1\" class=\"dataframe\">\n",
       "  <thead>\n",
       "    <tr style=\"text-align: right;\">\n",
       "      <th></th>\n",
       "      <th>Area</th>\n",
       "      <th>rooms</th>\n",
       "      <th>Almazar district</th>\n",
       "      <th>Bektemir district</th>\n",
       "      <th>Chilanzar district</th>\n",
       "      <th>Mirabad district</th>\n",
       "      <th>Mirzo-Ulugbek district</th>\n",
       "      <th>Sergeli district</th>\n",
       "      <th>Shaikhantahur district</th>\n",
       "      <th>Uchtepinsky district</th>\n",
       "      <th>Yakkasarai district</th>\n",
       "      <th>Yashnabad district</th>\n",
       "      <th>Yunusabad district</th>\n",
       "    </tr>\n",
       "  </thead>\n",
       "  <tbody>\n",
       "    <tr>\n",
       "      <th>0</th>\n",
       "      <td>44.00</td>\n",
       "      <td>1</td>\n",
       "      <td>0</td>\n",
       "      <td>0</td>\n",
       "      <td>0</td>\n",
       "      <td>0</td>\n",
       "      <td>0</td>\n",
       "      <td>0</td>\n",
       "      <td>0</td>\n",
       "      <td>0</td>\n",
       "      <td>0</td>\n",
       "      <td>0</td>\n",
       "      <td>1</td>\n",
       "    </tr>\n",
       "    <tr>\n",
       "      <th>2</th>\n",
       "      <td>42.61</td>\n",
       "      <td>1</td>\n",
       "      <td>0</td>\n",
       "      <td>0</td>\n",
       "      <td>0</td>\n",
       "      <td>0</td>\n",
       "      <td>0</td>\n",
       "      <td>0</td>\n",
       "      <td>0</td>\n",
       "      <td>0</td>\n",
       "      <td>0</td>\n",
       "      <td>0</td>\n",
       "      <td>1</td>\n",
       "    </tr>\n",
       "    <tr>\n",
       "      <th>6</th>\n",
       "      <td>42.00</td>\n",
       "      <td>1</td>\n",
       "      <td>0</td>\n",
       "      <td>0</td>\n",
       "      <td>0</td>\n",
       "      <td>0</td>\n",
       "      <td>0</td>\n",
       "      <td>0</td>\n",
       "      <td>0</td>\n",
       "      <td>0</td>\n",
       "      <td>0</td>\n",
       "      <td>1</td>\n",
       "      <td>0</td>\n",
       "    </tr>\n",
       "  </tbody>\n",
       "</table>\n",
       "</div>"
      ],
      "text/plain": [
       "    Area  rooms  Almazar district  Bektemir district  Chilanzar district   \n",
       "0  44.00      1                 0                  0                   0  \\\n",
       "2  42.61      1                 0                  0                   0   \n",
       "6  42.00      1                 0                  0                   0   \n",
       "\n",
       "   Mirabad district  Mirzo-Ulugbek district  Sergeli district   \n",
       "0                 0                       0                 0  \\\n",
       "2                 0                       0                 0   \n",
       "6                 0                       0                 0   \n",
       "\n",
       "   Shaikhantahur district  Uchtepinsky district  Yakkasarai district   \n",
       "0                       0                     0                    0  \\\n",
       "2                       0                     0                    0   \n",
       "6                       0                     0                    0   \n",
       "\n",
       "   Yashnabad district  Yunusabad district  \n",
       "0                   0                   1  \n",
       "2                   0                   1  \n",
       "6                   1                   0  "
      ]
     },
     "execution_count": 65,
     "metadata": {},
     "output_type": "execute_result"
    }
   ],
   "source": [
    "x_new = new.drop(['Price', 'Date', 'type'], axis=1)\n",
    "x_new.head(3)"
   ]
  },
  {
   "cell_type": "code",
   "execution_count": 88,
   "metadata": {},
   "outputs": [
    {
     "data": {
      "text/html": [
       "<div>\n",
       "<style scoped>\n",
       "    .dataframe tbody tr th:only-of-type {\n",
       "        vertical-align: middle;\n",
       "    }\n",
       "\n",
       "    .dataframe tbody tr th {\n",
       "        vertical-align: top;\n",
       "    }\n",
       "\n",
       "    .dataframe thead th {\n",
       "        text-align: right;\n",
       "    }\n",
       "</style>\n",
       "<table border=\"1\" class=\"dataframe\">\n",
       "  <thead>\n",
       "    <tr style=\"text-align: right;\">\n",
       "      <th></th>\n",
       "      <th>Area</th>\n",
       "      <th>rooms</th>\n",
       "      <th>Almazar district</th>\n",
       "      <th>Bektemir district</th>\n",
       "      <th>Chilanzar district</th>\n",
       "      <th>Mirabad district</th>\n",
       "      <th>Mirzo-Ulugbek district</th>\n",
       "      <th>Sergeli district</th>\n",
       "      <th>Shaikhantahur district</th>\n",
       "      <th>Uchtepinsky district</th>\n",
       "      <th>Yakkasarai district</th>\n",
       "      <th>Yashnabad district</th>\n",
       "      <th>Yunusabad district</th>\n",
       "    </tr>\n",
       "  </thead>\n",
       "  <tbody>\n",
       "    <tr>\n",
       "      <th>2311</th>\n",
       "      <td>45.0</td>\n",
       "      <td>1</td>\n",
       "      <td>0</td>\n",
       "      <td>0</td>\n",
       "      <td>1</td>\n",
       "      <td>0</td>\n",
       "      <td>0</td>\n",
       "      <td>0</td>\n",
       "      <td>0</td>\n",
       "      <td>0</td>\n",
       "      <td>0</td>\n",
       "      <td>0</td>\n",
       "      <td>0</td>\n",
       "    </tr>\n",
       "    <tr>\n",
       "      <th>2316</th>\n",
       "      <td>44.0</td>\n",
       "      <td>1</td>\n",
       "      <td>1</td>\n",
       "      <td>0</td>\n",
       "      <td>0</td>\n",
       "      <td>0</td>\n",
       "      <td>0</td>\n",
       "      <td>0</td>\n",
       "      <td>0</td>\n",
       "      <td>0</td>\n",
       "      <td>0</td>\n",
       "      <td>0</td>\n",
       "      <td>0</td>\n",
       "    </tr>\n",
       "    <tr>\n",
       "      <th>2317</th>\n",
       "      <td>42.0</td>\n",
       "      <td>1</td>\n",
       "      <td>0</td>\n",
       "      <td>0</td>\n",
       "      <td>0</td>\n",
       "      <td>0</td>\n",
       "      <td>0</td>\n",
       "      <td>0</td>\n",
       "      <td>0</td>\n",
       "      <td>0</td>\n",
       "      <td>0</td>\n",
       "      <td>1</td>\n",
       "      <td>0</td>\n",
       "    </tr>\n",
       "  </tbody>\n",
       "</table>\n",
       "</div>"
      ],
      "text/plain": [
       "      Area  rooms  Almazar district  Bektemir district  Chilanzar district   \n",
       "2311  45.0      1                 0                  0                   1  \\\n",
       "2316  44.0      1                 1                  0                   0   \n",
       "2317  42.0      1                 0                  0                   0   \n",
       "\n",
       "      Mirabad district  Mirzo-Ulugbek district  Sergeli district   \n",
       "2311                 0                       0                 0  \\\n",
       "2316                 0                       0                 0   \n",
       "2317                 0                       0                 0   \n",
       "\n",
       "      Shaikhantahur district  Uchtepinsky district  Yakkasarai district   \n",
       "2311                       0                     0                    0  \\\n",
       "2316                       0                     0                    0   \n",
       "2317                       0                     0                    0   \n",
       "\n",
       "      Yashnabad district  Yunusabad district  \n",
       "2311                   0                   0  \n",
       "2316                   0                   0  \n",
       "2317                   1                   0  "
      ]
     },
     "execution_count": 88,
     "metadata": {},
     "output_type": "execute_result"
    }
   ],
   "source": [
    "x_sec = secondary.drop(['Price', 'Date', 'type'], axis=1)\n",
    "x_sec.head(3)"
   ]
  },
  {
   "cell_type": "code",
   "execution_count": 96,
   "metadata": {},
   "outputs": [
    {
     "data": {
      "text/plain": [
       "(1899, 13)"
      ]
     },
     "execution_count": 96,
     "metadata": {},
     "output_type": "execute_result"
    }
   ],
   "source": [
    "x_new.shape"
   ]
  },
  {
   "cell_type": "code",
   "execution_count": 97,
   "metadata": {},
   "outputs": [
    {
     "data": {
      "text/plain": [
       "(3115, 13)"
      ]
     },
     "execution_count": 97,
     "metadata": {},
     "output_type": "execute_result"
    }
   ],
   "source": [
    "x_sec.shape"
   ]
  },
  {
   "cell_type": "code",
   "execution_count": 70,
   "metadata": {
    "scrolled": true
   },
   "outputs": [
    {
     "data": {
      "text/plain": [
       "0    40000.0\n",
       "2    60000.0\n",
       "6    45000.0\n",
       "Name: Price, dtype: float64"
      ]
     },
     "execution_count": 70,
     "metadata": {},
     "output_type": "execute_result"
    }
   ],
   "source": [
    "y_new = new.Price\n",
    "y_new.head(3)"
   ]
  },
  {
   "cell_type": "code",
   "execution_count": 98,
   "metadata": {},
   "outputs": [
    {
     "data": {
      "text/plain": [
       "2311    49000.0\n",
       "2316    45000.0\n",
       "2317    45000.0\n",
       "Name: Price, dtype: float64"
      ]
     },
     "execution_count": 98,
     "metadata": {},
     "output_type": "execute_result"
    }
   ],
   "source": [
    "y_sec = secondary.Price\n",
    "y_sec.head(3)"
   ]
  },
  {
   "cell_type": "code",
   "execution_count": 99,
   "metadata": {},
   "outputs": [
    {
     "data": {
      "text/plain": [
       "1899"
      ]
     },
     "execution_count": 99,
     "metadata": {},
     "output_type": "execute_result"
    }
   ],
   "source": [
    "len(y_new)"
   ]
  },
  {
   "cell_type": "code",
   "execution_count": 100,
   "metadata": {},
   "outputs": [
    {
     "data": {
      "text/plain": [
       "3115"
      ]
     },
     "execution_count": 100,
     "metadata": {},
     "output_type": "execute_result"
    }
   ],
   "source": [
    "len(y_sec)"
   ]
  },
  {
   "cell_type": "code",
   "execution_count": 101,
   "metadata": {},
   "outputs": [],
   "source": [
    "from sklearn.model_selection import train_test_split\n",
    "x_train_new, x_test_new, y_train_new, y_test_new = train_test_split(\n",
    "    x_new, y_new, test_size=0.2, random_state=10)"
   ]
  },
  {
   "cell_type": "code",
   "execution_count": 83,
   "metadata": {},
   "outputs": [
    {
     "data": {
      "text/plain": [
       "0.6914235714493615"
      ]
     },
     "execution_count": 83,
     "metadata": {},
     "output_type": "execute_result"
    }
   ],
   "source": [
    "from sklearn.linear_model import LinearRegression\n",
    "lr_clf = LinearRegression()\n",
    "lr_clf.fit(x_train_new, y_train_new)\n",
    "lr_clf.score(x_test_new, y_test_new)"
   ]
  },
  {
   "cell_type": "code",
   "execution_count": 102,
   "metadata": {},
   "outputs": [],
   "source": [
    "from sklearn.model_selection import train_test_split\n",
    "x_train_sec, x_test_sec, y_train_sec, y_test_sec = train_test_split(\n",
    "    x_sec, y_sec, test_size=0.2, random_state=10)"
   ]
  },
  {
   "cell_type": "code",
   "execution_count": 103,
   "metadata": {},
   "outputs": [
    {
     "data": {
      "text/plain": [
       "0.6151889692206975"
      ]
     },
     "execution_count": 103,
     "metadata": {},
     "output_type": "execute_result"
    }
   ],
   "source": [
    "from sklearn.linear_model import LinearRegression\n",
    "lr_clf2 = LinearRegression()\n",
    "lr_clf2.fit(x_train_sec, y_train_sec)\n",
    "lr_clf2.score(x_test_sec, y_test_sec)"
   ]
  },
  {
   "attachments": {},
   "cell_type": "markdown",
   "metadata": {},
   "source": [
    "<h2 style='color:blue'>Use K Fold cross validation to measure accuracy of our LinearRegression model</h2>\n"
   ]
  },
  {
   "cell_type": "code",
   "execution_count": 104,
   "metadata": {},
   "outputs": [
    {
     "data": {
      "text/plain": [
       "array([0.6949551 , 0.68221458, 0.68511466, 0.38036235, 0.65523811])"
      ]
     },
     "execution_count": 104,
     "metadata": {},
     "output_type": "execute_result"
    }
   ],
   "source": [
    "from sklearn.model_selection import ShuffleSplit\n",
    "from sklearn.model_selection import cross_val_score\n",
    "\n",
    "cv = ShuffleSplit(n_splits=5, test_size=0.2, random_state=0)\n",
    "\n",
    "cross_val_score(LinearRegression(), x_new, y_new, cv=cv)"
   ]
  },
  {
   "attachments": {},
   "cell_type": "markdown",
   "metadata": {},
   "source": [
    "**We can see that in 5 iterations we get a score above 65% all the time. This is pretty good but we want to test few other algorithms for regression to see if we can get even better score. We will use GridSearchCV for this purpose**\n"
   ]
  },
  {
   "attachments": {},
   "cell_type": "markdown",
   "metadata": {},
   "source": [
    "<h2 style='color:blue'>Find best model using GridSearchCV</h2>\n"
   ]
  },
  {
   "cell_type": "code",
   "execution_count": 105,
   "metadata": {},
   "outputs": [
    {
     "name": "stderr",
     "output_type": "stream",
     "text": [
      "c:\\Users\\ziyod\\AppData\\Local\\Programs\\Python\\Python311\\Lib\\site-packages\\sklearn\\linear_model\\_coordinate_descent.py:631: ConvergenceWarning: Objective did not converge. You might want to increase the number of iterations, check the scale of the features or consider increasing regularisation. Duality gap: 8.880e+11, tolerance: 5.122e+08\n",
      "  model = cd_fast.enet_coordinate_descent(\n",
      "c:\\Users\\ziyod\\AppData\\Local\\Programs\\Python\\Python311\\Lib\\site-packages\\sklearn\\linear_model\\_coordinate_descent.py:631: ConvergenceWarning: Objective did not converge. You might want to increase the number of iterations, check the scale of the features or consider increasing regularisation. Duality gap: 2.993e+11, tolerance: 5.188e+08\n",
      "  model = cd_fast.enet_coordinate_descent(\n",
      "c:\\Users\\ziyod\\AppData\\Local\\Programs\\Python\\Python311\\Lib\\site-packages\\sklearn\\linear_model\\_coordinate_descent.py:631: ConvergenceWarning: Objective did not converge. You might want to increase the number of iterations, check the scale of the features or consider increasing regularisation. Duality gap: 4.951e+11, tolerance: 4.209e+08\n",
      "  model = cd_fast.enet_coordinate_descent(\n",
      "c:\\Users\\ziyod\\AppData\\Local\\Programs\\Python\\Python311\\Lib\\site-packages\\sklearn\\linear_model\\_coordinate_descent.py:631: ConvergenceWarning: Objective did not converge. You might want to increase the number of iterations, check the scale of the features or consider increasing regularisation. Duality gap: 9.388e+11, tolerance: 5.122e+08\n",
      "  model = cd_fast.enet_coordinate_descent(\n",
      "c:\\Users\\ziyod\\AppData\\Local\\Programs\\Python\\Python311\\Lib\\site-packages\\sklearn\\linear_model\\_coordinate_descent.py:631: ConvergenceWarning: Objective did not converge. You might want to increase the number of iterations, check the scale of the features or consider increasing regularisation. Duality gap: 6.364e+11, tolerance: 5.188e+08\n",
      "  model = cd_fast.enet_coordinate_descent(\n",
      "c:\\Users\\ziyod\\AppData\\Local\\Programs\\Python\\Python311\\Lib\\site-packages\\sklearn\\model_selection\\_validation.py:378: FitFailedWarning: \n",
      "10 fits failed out of a total of 20.\n",
      "The score on these train-test partitions for these parameters will be set to nan.\n",
      "If these failures are not expected, you can try to debug them by setting error_score='raise'.\n",
      "\n",
      "Below are more details about the failures:\n",
      "--------------------------------------------------------------------------------\n",
      "10 fits failed with the following error:\n",
      "Traceback (most recent call last):\n",
      "  File \"c:\\Users\\ziyod\\AppData\\Local\\Programs\\Python\\Python311\\Lib\\site-packages\\sklearn\\model_selection\\_validation.py\", line 686, in _fit_and_score\n",
      "    estimator.fit(X_train, y_train, **fit_params)\n",
      "  File \"c:\\Users\\ziyod\\AppData\\Local\\Programs\\Python\\Python311\\Lib\\site-packages\\sklearn\\tree\\_classes.py\", line 1247, in fit\n",
      "    super().fit(\n",
      "  File \"c:\\Users\\ziyod\\AppData\\Local\\Programs\\Python\\Python311\\Lib\\site-packages\\sklearn\\tree\\_classes.py\", line 177, in fit\n",
      "    self._validate_params()\n",
      "  File \"c:\\Users\\ziyod\\AppData\\Local\\Programs\\Python\\Python311\\Lib\\site-packages\\sklearn\\base.py\", line 600, in _validate_params\n",
      "    validate_parameter_constraints(\n",
      "  File \"c:\\Users\\ziyod\\AppData\\Local\\Programs\\Python\\Python311\\Lib\\site-packages\\sklearn\\utils\\_param_validation.py\", line 97, in validate_parameter_constraints\n",
      "    raise InvalidParameterError(\n",
      "sklearn.utils._param_validation.InvalidParameterError: The 'criterion' parameter of DecisionTreeRegressor must be a str among {'poisson', 'absolute_error', 'squared_error', 'friedman_mse'}. Got 'mse' instead.\n",
      "\n",
      "  warnings.warn(some_fits_failed_message, FitFailedWarning)\n",
      "c:\\Users\\ziyod\\AppData\\Local\\Programs\\Python\\Python311\\Lib\\site-packages\\sklearn\\model_selection\\_search.py:952: UserWarning: One or more of the test scores are non-finite: [       nan        nan 0.44049462 0.47627049]\n",
      "  warnings.warn(\n"
     ]
    },
    {
     "data": {
      "text/html": [
       "<div>\n",
       "<style scoped>\n",
       "    .dataframe tbody tr th:only-of-type {\n",
       "        vertical-align: middle;\n",
       "    }\n",
       "\n",
       "    .dataframe tbody tr th {\n",
       "        vertical-align: top;\n",
       "    }\n",
       "\n",
       "    .dataframe thead th {\n",
       "        text-align: right;\n",
       "    }\n",
       "</style>\n",
       "<table border=\"1\" class=\"dataframe\">\n",
       "  <thead>\n",
       "    <tr style=\"text-align: right;\">\n",
       "      <th></th>\n",
       "      <th>model</th>\n",
       "      <th>best_score</th>\n",
       "      <th>best_params</th>\n",
       "    </tr>\n",
       "  </thead>\n",
       "  <tbody>\n",
       "    <tr>\n",
       "      <th>0</th>\n",
       "      <td>lasso</td>\n",
       "      <td>0.619604</td>\n",
       "      <td>{'alpha': 2, 'selection': 'random'}</td>\n",
       "    </tr>\n",
       "    <tr>\n",
       "      <th>1</th>\n",
       "      <td>decision_tree</td>\n",
       "      <td>0.476270</td>\n",
       "      <td>{'criterion': 'friedman_mse', 'splitter': 'ran...</td>\n",
       "    </tr>\n",
       "  </tbody>\n",
       "</table>\n",
       "</div>"
      ],
      "text/plain": [
       "           model  best_score   \n",
       "0          lasso    0.619604  \\\n",
       "1  decision_tree    0.476270   \n",
       "\n",
       "                                         best_params  \n",
       "0                {'alpha': 2, 'selection': 'random'}  \n",
       "1  {'criterion': 'friedman_mse', 'splitter': 'ran...  "
      ]
     },
     "execution_count": 105,
     "metadata": {},
     "output_type": "execute_result"
    }
   ],
   "source": [
    "from sklearn.model_selection import GridSearchCV\n",
    "\n",
    "from sklearn.linear_model import Lasso\n",
    "from sklearn.tree import DecisionTreeRegressor\n",
    "\n",
    "\n",
    "def find_best_model_using_gridsearchcv(X, y):\n",
    "    algos = {\n",
    "        'lasso': {\n",
    "            'model': Lasso(),\n",
    "            'params': {\n",
    "                'alpha': [1, 2],\n",
    "                'selection': ['random', 'cyclic']\n",
    "            }\n",
    "        },\n",
    "        'decision_tree': {\n",
    "            'model': DecisionTreeRegressor(),\n",
    "            'params': {\n",
    "                'criterion': ['mse', 'friedman_mse'],\n",
    "                'splitter': ['best', 'random']\n",
    "            }\n",
    "        }\n",
    "    }\n",
    "    scores = []\n",
    "    cv = ShuffleSplit(n_splits=5, test_size=0.2, random_state=0)\n",
    "    for algo_name, config in algos.items():\n",
    "        gs = GridSearchCV(config['model'], config['params'],\n",
    "                          cv=cv, return_train_score=False)\n",
    "        gs.fit(X, y)\n",
    "        scores.append({\n",
    "            'model': algo_name,\n",
    "            'best_score': gs.best_score_,\n",
    "            'best_params': gs.best_params_\n",
    "        })\n",
    "\n",
    "    return pd.DataFrame(scores, columns=['model', 'best_score', 'best_params'])\n",
    "\n",
    "\n",
    "find_best_model_using_gridsearchcv(x_new, y_new)"
   ]
  },
  {
   "attachments": {},
   "cell_type": "markdown",
   "metadata": {},
   "source": [
    "**Based on above results we can say that LinearRegression gives the best score. Hence we will use that.**\n"
   ]
  },
  {
   "attachments": {},
   "cell_type": "markdown",
   "metadata": {},
   "source": [
    "<h2 style='color:blue'>Test the model for few properties</h2>\n"
   ]
  },
  {
   "cell_type": "code",
   "execution_count": 106,
   "metadata": {},
   "outputs": [
    {
     "data": {
      "text/plain": [
       "(1899, 13)"
      ]
     },
     "execution_count": 106,
     "metadata": {},
     "output_type": "execute_result"
    }
   ],
   "source": [
    "x_new.shape"
   ]
  },
  {
   "cell_type": "code",
   "execution_count": 107,
   "metadata": {},
   "outputs": [
    {
     "data": {
      "text/plain": [
       "(3115, 13)"
      ]
     },
     "execution_count": 107,
     "metadata": {},
     "output_type": "execute_result"
    }
   ],
   "source": [
    "x_sec.shape"
   ]
  },
  {
   "cell_type": "code",
   "execution_count": 108,
   "metadata": {},
   "outputs": [],
   "source": [
    "def predict_price_new(area, rooms, district):\n",
    "    loc_index = np.where(x_new.columns == district)[0][0]\n",
    "\n",
    "    x = np.zeros(len(x_new.columns))\n",
    "    x[0] = area\n",
    "    x[1] = rooms\n",
    "    if loc_index >= 0:\n",
    "        x[loc_index] = 1\n",
    "\n",
    "    return lr_clf.predict([x])[0]"
   ]
  },
  {
   "cell_type": "code",
   "execution_count": 113,
   "metadata": {},
   "outputs": [
    {
     "name": "stderr",
     "output_type": "stream",
     "text": [
      "c:\\Users\\ziyod\\AppData\\Local\\Programs\\Python\\Python311\\Lib\\site-packages\\sklearn\\base.py:439: UserWarning: X does not have valid feature names, but LinearRegression was fitted with feature names\n",
      "  warnings.warn(\n"
     ]
    },
    {
     "data": {
      "text/plain": [
       "77881.58455032633"
      ]
     },
     "execution_count": 113,
     "metadata": {},
     "output_type": "execute_result"
    }
   ],
   "source": [
    "predict_price_new(70, 1, 'Almazar district')"
   ]
  },
  {
   "cell_type": "code",
   "execution_count": 110,
   "metadata": {},
   "outputs": [],
   "source": [
    "def predict_price_secondary(area, rooms, district):\n",
    "    loc_index = np.where(x_sec.columns == district)[0][0]\n",
    "\n",
    "    x = np.zeros(len(x_sec.columns))\n",
    "    x[0] = area\n",
    "    x[1] = rooms\n",
    "    if loc_index >= 0:\n",
    "        x[loc_index] = 1\n",
    "\n",
    "    return lr_clf2.predict([x])[0]"
   ]
  },
  {
   "cell_type": "code",
   "execution_count": 114,
   "metadata": {},
   "outputs": [
    {
     "name": "stderr",
     "output_type": "stream",
     "text": [
      "c:\\Users\\ziyod\\AppData\\Local\\Programs\\Python\\Python311\\Lib\\site-packages\\sklearn\\base.py:439: UserWarning: X does not have valid feature names, but LinearRegression was fitted with feature names\n",
      "  warnings.warn(\n"
     ]
    },
    {
     "data": {
      "text/plain": [
       "76833.3364308627"
      ]
     },
     "execution_count": 114,
     "metadata": {},
     "output_type": "execute_result"
    }
   ],
   "source": [
    "predict_price_secondary(70, 1, 'Almazar district')"
   ]
  },
  {
   "attachments": {},
   "cell_type": "markdown",
   "metadata": {},
   "source": [
    "<h2 style='color:blue'>Export the tested model to a pickle file</h2>\n"
   ]
  },
  {
   "cell_type": "code",
   "execution_count": 117,
   "metadata": {},
   "outputs": [],
   "source": [
    "import pickle\n",
    "with open('tashkent_new_home_prices_model.pickle', 'wb') as f:\n",
    "    pickle.dump(lr_clf, f)"
   ]
  },
  {
   "cell_type": "code",
   "execution_count": 115,
   "metadata": {},
   "outputs": [],
   "source": [
    "import pickle\n",
    "with open('tashkent_secondary_home_prices_model.pickle', 'wb') as f:\n",
    "    pickle.dump(lr_clf2, f)"
   ]
  },
  {
   "attachments": {},
   "cell_type": "markdown",
   "metadata": {},
   "source": [
    "<h2 style='color:blue'>Export location and column information to a file that will be useful later on in our prediction application</h2>\n"
   ]
  },
  {
   "cell_type": "code",
   "execution_count": 116,
   "metadata": {},
   "outputs": [],
   "source": [
    "import json\n",
    "columns = {\n",
    "    'data_columns': [col.lower() for col in x_new.columns]\n",
    "}\n",
    "with open(\"columns_new.json\", \"w\") as f:\n",
    "    f.write(json.dumps(columns))"
   ]
  },
  {
   "cell_type": "code",
   "execution_count": 118,
   "metadata": {},
   "outputs": [],
   "source": [
    "import json\n",
    "columns = {\n",
    "    'data_columns': [col.lower() for col in x_sec.columns]\n",
    "}\n",
    "with open(\"columns_secondary.json\", \"w\") as f:\n",
    "    f.write(json.dumps(columns))"
   ]
  }
 ],
 "metadata": {
  "kernelspec": {
   "display_name": "Python 3",
   "language": "python",
   "name": "python3"
  },
  "language_info": {
   "codemirror_mode": {
    "name": "ipython",
    "version": 3
   },
   "file_extension": ".py",
   "mimetype": "text/x-python",
   "name": "python",
   "nbconvert_exporter": "python",
   "pygments_lexer": "ipython3",
   "version": "3.11.3"
  }
 },
 "nbformat": 4,
 "nbformat_minor": 2
}
